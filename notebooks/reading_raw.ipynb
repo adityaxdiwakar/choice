{
 "metadata": {
  "language_info": {
   "codemirror_mode": {
    "name": "ipython",
    "version": 3
   },
   "file_extension": ".py",
   "mimetype": "text/x-python",
   "name": "python",
   "nbconvert_exporter": "python",
   "pygments_lexer": "ipython3",
   "version": "3.9.5-final"
  },
  "orig_nbformat": 2,
  "kernelspec": {
   "name": "python38264bit3250d0020308424895173b09eaed1b20",
   "display_name": "Python 3.8.2 64-bit"
  }
 },
 "nbformat": 4,
 "nbformat_minor": 2,
 "cells": [
  {
   "cell_type": "code",
   "execution_count": 1,
   "metadata": {},
   "outputs": [],
   "source": [
    "import json\n",
    "import re"
   ]
  },
  {
   "source": [
    "\n",
    "\n",
    "with open(\"bin/quotesRaw.txt\", \"r\") as f:\n",
    "    data = f.read()\n",
    "\n",
    "j = json.loads(data)\n",
    "with open(\"bin/quotesRaw-replaced.json\", \"w\") as f:\n",
    "     json.dump(j, f, indent=2)\n",
    "\n",
    "# garbage collect j, data\n",
    "del j\n",
    "del data"
   ],
   "cell_type": "code",
   "metadata": {},
   "execution_count": 89,
   "outputs": []
  },
  {
   "cell_type": "code",
   "execution_count": 2,
   "metadata": {},
   "outputs": [
    {
     "output_type": "stream",
     "name": "stdout",
     "text": [
      "The length of the payload data is: 1600\n"
     ]
    }
   ],
   "source": [
    "with open(\"bin/quotesRaw-replaced.json\", \"r\") as f:\n",
    "    data = json.load(f)\n",
    "\n",
    "print(\"The length of the payload data is:\", len(data[\"payload\"]))"
   ]
  },
  {
   "cell_type": "code",
   "execution_count": 21,
   "metadata": {
    "tags": []
   },
   "outputs": [
    {
     "output_type": "stream",
     "name": "stdout",
     "text": [
      "Login attempt: [{\"body\":{\"patches\":[{\"op\":\"replace\",\"path\":\"\",\"value\":{\"authenticated\":true,\"authenticationStatus\": [REDACTED] ...\n\nFirst quote: [{\"body\":{\"patches\":[{\"op\":\"replace\",\"path\":\"\",\"value\":{\"exchanges\":[\"AMEX\",\"BATS\",\"BEST\",\"BOX\",\"C2\",\"CBOE\",\"ISE\",\"NASDAQ\",\"NYSE\",\"PHLX\"],\"items\":[{\"symbol\":\".SPY210616C230\",\"values\":{\"PROBABILITY_ITM\":1}},{\"symbol\":\".SPY210616P230\",\"values\":{\"PROBABILITY_ITM\":0}},{\"symbol\":\".SPY210616C235\",\"values\" ... P 21 100 (Quarterlys) 15 OCT 21 100 19 NOV 21 100 17 DEC 21 100 31 DEC 21 100 (Quarterlys) 21 JAN 22 100 18 FEB 22 100 18 MAR 22 100 31 MAR 22 100 (Quarterlys) 17 JUN 22 100 16 SEP 22 100 16 DEC 22 100 20 JAN 23 100 17 MAR 23 100 15 DEC 23 100]-0\",\"service\":\"quotes/options\",\"type\":\"patch\",\"ver\":0}}]\n"
     ]
    }
   ],
   "source": [
    "payload = data[\"payload\"]\n",
    "\n",
    "# login attempt\n",
    "print(\"Login attempt:\", payload[0][:100], \"[REDACTED] ...\\n\")\n",
    "\n",
    "# first quote\n",
    "print(\"First quote:\", payload[1][:300], \"...\", payload[1][-300:])"
   ]
  },
  {
   "cell_type": "code",
   "execution_count": 4,
   "metadata": {
    "tags": []
   },
   "outputs": [
    {
     "output_type": "stream",
     "name": "stdout",
     "text": [
      "The length of the packages list is: 6,704,490\n"
     ]
    }
   ],
   "source": [
    "# parse these patches into individual items and delete the main package\n",
    "packages = []\n",
    "for item in payload:\n",
    "    item_json = json.loads(item)\n",
    "    for ele in item_json:\n",
    "        for patch in ele[\"body\"][\"patches\"]:\n",
    "            tup = (patch, ele[\"header\"][\"id\"])\n",
    "            packages.append(tup)\n",
    "\n",
    "print(f\"The length of the packages list is: {len(packages):,}\")"
   ]
  },
  {
   "cell_type": "code",
   "execution_count": 23,
   "metadata": {
    "tags": []
   },
   "outputs": [
    {
     "output_type": "stream",
     "name": "stdout",
     "text": [
      "First quote: ({'op': 'replace', 'path': '', 'value': {'exchanges': ['AMEX', 'BATS', 'BEST', 'BOX', 'C2', 'CBOE', 'ISE', 'NASDAQ', 'NYSE', 'PHLX'], 'items': [{'symbol': '.SPY210616C230', 'values': {'PROBABILITY_ITM': 1}}, {'symbol': '.SPY210616P230', 'values': {'PROBABILITY_ITM': 0}}, {'symbol': '.SPY210616C235', \n...\n...\n... ) 6 JUL 21 100 7 JUL 21 100 (Weeklys) 9 JUL 21 100 (Weeklys) 12 JUL 21 100 (Weeklys) 14 JUL 21 100 (Weeklys) 16 JUL 21 100 19 JUL 21 100 (Weeklys) 21 JUL 21 100 (Weeklys) 23 JUL 21 100 (Weeklys) 30 JUL 21 100 (Weeklys) 20 AUG 21 100 17 SEP 21 100 30 SEP 21 100 (Quarterlys) 15 OCT 21 100 19 NOV 21 100 17 DEC 21 100 31 DEC 21 100 (Quarterlys) 21 JAN 22 100 18 FEB 22 100 18 MAR 22 100 31 MAR 22 100 (Quarterlys) 17 JUN 22 100 16 SEP 22 100 16 DEC 22 100 20 JAN 23 100 17 MAR 23 100 15 DEC 23 100]-0')\n\nSecond quote: ({'op': 'replace', 'path': '', 'value': {'exchanges': ['AMEX', 'BATS', 'BEST', 'BOX', 'C2', 'CBOE', 'ISE', 'NASDAQ', 'NYSE', 'PHLX'], 'items': [{'symbol': '.AAPL210618C18.75', 'values': {'ASK': 111.55, 'BID': 111.45, 'DELTA': 0.869, 'GAMMA': 0, 'IMPLIED_VOLATILITY': -1e+99, 'LAST': 110.8, 'MARK': 11 \n...\n...\n...  'IMPLIED_VOLATILITY': 0, 'LAST': 131, 'MARK': 131, 'MARK_CHANGE': -0.5, 'OPEN_INT': 53, 'PROBABILITY_ITM': 1, 'RHO': -5.1974, 'THETA': -0.0023, 'VEGA': 0, 'VOLUME': 1}}]}}, 'OPTIONCHAINGET#AAPL@[18 JUN 21 100 25 JUN 21 100 (Weeklys) 2 JUL 21 100 (Weeklys) 9 JUL 21 100 (Weeklys) 16 JUL 21 100 23 JUL 21 100 (Weeklys) 30 JUL 21 100 (Weeklys) 20 AUG 21 100 17 SEP 21 100 15 OCT 21 100 19 NOV 21 100 17 DEC 21 100 21 JAN 22 100 17 JUN 22 100 16 SEP 22 100 20 JAN 23 100 17 MAR 23 100 16 JUN 23 100]-0')\n\n"
     ]
    }
   ],
   "source": [
    "# first quote (first and last 300 characters shows tuple form)\n",
    "print(\"First quote:\", str(packages[1])[:300], \"\\n...\"*3, str(packages[1])[-500:] + \"\\n\")\n",
    "\n",
    "# second quote\n",
    "print(\"Second quote:\", str(packages[2])[:300], \"\\n...\"*3, str(packages[2])[-500:] + \"\\n\")"
   ]
  },
  {
   "cell_type": "code",
   "execution_count": 5,
   "metadata": {},
   "outputs": [
    {
     "output_type": "stream",
     "name": "stdout",
     "text": [
      "PATCHES BY TICKER\n------------------------------\nOPTIONCHAINGET#SPY - 3,455,220\nOPTIONCHAINGET#TSLA - 1,766,005\nOPTIONCHAINGET#GLD - 548,102\nOPTIONCHAINGET#AMC - 434,721\nOPTIONCHAINGET#AAPL - 304,385\nOPTIONCHAINGET#NIO - 167,722\nOPTIONCHAINGET#WISH - 28,334\nlogi - 1\n"
     ]
    }
   ],
   "source": [
    "patch_by_id = {}\n",
    "for patch, id in packages:\n",
    "    if id not in patch_by_id:\n",
    "        patch_by_id[id] = []\n",
    "    patch_by_id[id].append(patch)\n",
    "\n",
    "print(\"PATCHES BY TICKER\" + \"\\n\" + \"-\"*30)\n",
    "patch_by_id_count = {k[:20]:len(v) for k,v in patch_by_id.items()}\n",
    "for k, v in {k: v for k, v in sorted(patch_by_id_count.items(), reverse=True, key=lambda item: item[1])}.items():\n",
    "    print(k[:k.find(\"@\")], \"-\", f\"{v:,}\")\n"
   ]
  },
  {
   "cell_type": "code",
   "execution_count": 6,
   "metadata": {},
   "outputs": [
    {
     "output_type": "stream",
     "name": "stdout",
     "text": [
      "OPTIONCHAINGET#SPY@[16 JUN 21 100 (Weeklys) 18 JUN 21 100 21 JUN 21 100 (Weeklys) 23 JUN 21 100 (Weeklys) 25 JUN 21 100 (Weeklys) 28 JUN 21 100 (Weeklys) 30 JUN 21 100 (Quarterlys) 2 JUL 21 100 (Weeklys) 6 JUL 21 100 7 JUL 21 100 (Weeklys) 9 JUL 21 100 (Weeklys) 12 JUL 21 100 (Weeklys) 14 JUL 21 100 (Weeklys) 16 JUL 21 100 19 JUL 21 100 (Weeklys) 21 JUL 21 100 (Weeklys) 23 JUL 21 100 (Weeklys) 30 JUL 21 100 (Weeklys) 20 AUG 21 100 17 SEP 21 100 30 SEP 21 100 (Quarterlys) 15 OCT 21 100 19 NOV 21 100 17 DEC 21 100 31 DEC 21 100 (Quarterlys) 21 JAN 22 100 18 FEB 22 100 18 MAR 22 100 31 MAR 22 100 (Quarterlys) 17 JUN 22 100 16 SEP 22 100 16 DEC 22 100 20 JAN 23 100 17 MAR 23 100 15 DEC 23 100]-0\n"
     ]
    }
   ],
   "source": [
    "# let us pick SPY for research purposes\n",
    "[spy_patch_key] = [k for k in patch_by_id if k.startswith(\"OPTIONCHAINGET#SPY\")]\n",
    "print(spy_patch_key)"
   ]
  },
  {
   "cell_type": "code",
   "execution_count": 7,
   "metadata": {},
   "outputs": [
    {
     "output_type": "stream",
     "name": "stdout",
     "text": [
      "Number of patches for SPY: 3,455,220\n"
     ]
    }
   ],
   "source": [
    "spy_patches = patch_by_id[spy_patch_key]\n",
    "print(f\"Number of patches for SPY: {len(spy_patches):,}\")"
   ]
  },
  {
   "cell_type": "code",
   "execution_count": 8,
   "metadata": {},
   "outputs": [
    {
     "output_type": "stream",
     "name": "stdout",
     "text": [
      "Number of tickers: 10,290\n"
     ]
    }
   ],
   "source": [
    "# how many tickers are there in the spy patch list?\n",
    "print(f\"Number of tickers: {len(spy_patches[0]['value']['items']):,}\")"
   ]
  },
  {
   "source": [
    "# first patch\n",
    "print(\"First patch:\", str(spy_patches[0])[:300], \"\\n...\"*3, str(spy_patches[0])[-300:] + \"\\n\")\n",
    "\n",
    "# second patch\n",
    "print(\"Second patch:\", str(spy_patches[1])[:300], \"\\n...\"*3, str(spy_patches[1])[-300:] + \"\\n\")\n",
    "\n",
    "# third patch\n",
    "for i, p in enumerate(spy_patches[2:100000:10000]):\n",
    "    print(f\"Patch {i*10000}:\", str(p)[:300])\n",
    "\n",
    "# Conclusion: we need to keep track of all the tickers and the respective index they're in (unlikely they'd change)"
   ],
   "cell_type": "code",
   "metadata": {
    "tags": []
   },
   "execution_count": 11,
   "outputs": [
    {
     "output_type": "stream",
     "name": "stdout",
     "text": [
      "First patch: {'op': 'replace', 'path': '', 'value': {'exchanges': ['AMEX', 'BATS', 'BEST', 'BOX', 'C2', 'CBOE', 'ISE', 'NASDAQ', 'NYSE', 'PHLX'], 'items': [{'symbol': '.SPY210616C230', 'values': {'PROBABILITY_ITM': 1}}, {'symbol': '.SPY210616P230', 'values': {'PROBABILITY_ITM': 0}}, {'symbol': '.SPY210616C235',  \n...\n...\n... 13.91, 'OPEN_INT': 0, 'PROBABILITY_ITM': 1, 'RHO': -15.7246, 'THETA': -0.0134, 'VEGA': 0, 'VOLUME': 0}}, {'symbol': '.SPY231215C635', 'values': {'ASK': 2.36, 'BID': 1.71, 'LAST': 2, 'OPEN_INT': 5, 'PROBABILITY_ITM': 0, 'VOLUME': 53}}, {'symbol': '.SPY231215P635', 'values': {'PROBABILITY_ITM': 1}}]}}\n\nSecond patch: {'op': 'replace', 'path': '', 'value': {'exchanges': ['AMEX', 'BATS', 'BEST', 'BOX', 'C2', 'CBOE', 'ISE', 'NASDAQ', 'NYSE', 'PHLX'], 'items': [{'symbol': '.SPY210616C230', 'values': {'ASK': 192.74, 'BID': 191.99, 'DELTA': 0.8937, 'GAMMA': 0, 'IMPLIED_VOLATILITY': -1e+99, 'LAST': 0, 'MARK': 192.31, ' \n...\n...\n... 'THETA': -0.0053, 'VEGA': 0.6953, 'VOLUME': 53}}, {'symbol': '.SPY231215P635', 'values': {'ASK': 220.5, 'BID': 216.64, 'DELTA': -0.9702, 'GAMMA': 0, 'IMPLIED_VOLATILITY': 0, 'LAST': 0, 'MARK': 218.57, 'OPEN_INT': 0, 'PROBABILITY_ITM': 1, 'RHO': -15.8494, 'THETA': -0.0134, 'VEGA': 0, 'VOLUME': 0}}]}}\n\nPatch 0: {'op': 'replace', 'path': '/items/10285/values/ASK', 'value': 211}\nPatch 10000: {'op': 'replace', 'path': '/items/5911/values/MARK', 'value': 45.7}\nPatch 20000: {'op': 'replace', 'path': '/items/2654/values/PROBABILITY_ITM', 'value': 0.5335}\nPatch 30000: {'op': 'replace', 'path': '/items/6121/values/ASK', 'value': 8.05}\nPatch 40000: {'op': 'replace', 'path': '/items/6689/values/IMPLIED_VOLATILITY', 'value': 0.1718}\nPatch 50000: {'op': 'replace', 'path': '/items/1434/values/PROBABILITY_ITM', 'value': 0.1041}\nPatch 60000: {'op': 'replace', 'path': '/items/6722/values/ASK', 'value': 367.95}\nPatch 70000: {'op': 'replace', 'path': '/items/8154/values/PROBABILITY_ITM', 'value': 0.6734}\nPatch 80000: {'op': 'replace', 'path': '/items/4496/values/PROBABILITY_ITM', 'value': 0.9214}\nPatch 90000: {'op': 'replace', 'path': '/items/810/values/MARK', 'value': 42.32}\n"
     ]
    }
   ]
  },
  {
   "cell_type": "code",
   "execution_count": 10,
   "metadata": {
    "tags": []
   },
   "outputs": [],
   "source": [
    "# apply main patches which have a path of \"\"\n",
    "\n",
    "import jsonpatch\n",
    "\n",
    "symbol_map = {}\n",
    "for patch in spy_patches:\n",
    "    if patch[\"path\"] == \"\":\n",
    "        symbol_map = jsonpatch.apply_patch(symbol_map, [patch])\n",
    "\n",
    "with open(\"test.json\", \"w\") as f:\n",
    "    json.dump(symbol_map, f, indent=2)"
   ]
  },
  {
   "cell_type": "code",
   "execution_count": 12,
   "metadata": {},
   "outputs": [],
   "source": [
    "# seperate patches to their tickers\n",
    "\n",
    "patch_by_idx = {}\n",
    "for patch in spy_patches:\n",
    "    if patch[\"path\"] == \"\" or not patch[\"path\"].startswith(\"/items\"):\n",
    "        continue\n",
    "\n",
    "    # get path without items\n",
    "    path = patch[\"path\"][7:]\n",
    "\n",
    "    # get only the index\n",
    "    idx = int(path[:path.find(\"/\")])\n",
    "        \n",
    "    if idx not in patch_by_idx:\n",
    "        patch_by_idx[idx] = []\n",
    "    patch_by_idx[idx].append(patch)"
   ]
  },
  {
   "cell_type": "code",
   "execution_count": 36,
   "metadata": {},
   "outputs": [
    {
     "output_type": "stream",
     "name": "stdout",
     "text": [
      "10285\n  | -> (1)\t {'op': 'replace', 'path': '/items/10285/values/ASK', 'value': 211}\n  | -> (2)\t {'op': 'replace', 'path': '/items/10285/values/MARK', 'value': 208.97}\n  | -> (3)\t {'op': 'replace', 'path': '/items/10285/values/MARK', 'value': 208.99}\n10284\n  | -> (1)\t {'op': 'replace', 'path': '/items/10284/values/IMPLIED_VOLATILITY', 'value': 0.1568}\n  | -> (2)\t {'op': 'replace', 'path': '/items/10284/values/RHO', 'value': 0.5283}\n  | -> (3)\t {'op': 'replace', 'path': '/items/10284/values/VEGA', 'value': 0.7534}\n10282\n  | -> (1)\t {'op': 'replace', 'path': '/items/10282/values/IMPLIED_VOLATILITY', 'value': 0.1517}\n  | -> (2)\t {'op': 'replace', 'path': '/items/10282/values/MARK', 'value': 2.07}\n  | -> (3)\t {'op': 'replace', 'path': '/items/10282/values/MARK_CHANGE', 'value': -0.32}\n10268\n  | -> (1)\t {'op': 'replace', 'path': '/items/10268/values/IMPLIED_VOLATILITY', 'value': 0.1534}\n  | -> (2)\t {'op': 'replace', 'path': '/items/10268/values/MARK', 'value': 3.75}\n  | -> (3)\t {'op': 'replace', 'path': '/items/10268/values/MARK_CHANGE', 'value': 0.06}\n10267\n  | -> (1)\t {'op': 'replace', 'path': '/items/10267/values/ASK', 'value': 168.5}\n  | -> (2)\t {'op': 'replace', 'path': '/items/10267/values/MARK', 'value': 166.33}\n  | -> (3)\t {'op': 'replace', 'path': '/items/10267/values/MARK', 'value': 166.39}\n"
     ]
    }
   ],
   "source": [
    "# let's view some of these\n",
    "\n",
    "for idx in list(patch_by_idx.keys())[:5]:\n",
    "    print(idx)\n",
    "    for i, patch in enumerate(patch_by_idx[idx][:3]):\n",
    "        print(f\"  | -> ({i + 1})\\t\", patch)"
   ]
  },
  {
   "cell_type": "code",
   "execution_count": 13,
   "metadata": {},
   "outputs": [
    {
     "output_type": "stream",
     "name": "stdout",
     "text": [
      "Going to patch 10285 which has 86 items to update\n| -> (1)\t {'op': 'replace', 'path': '/items/10285/values/ASK', 'value': 211}\n| -> (2)\t {'op': 'replace', 'path': '/items/10285/values/MARK', 'value': 208.97}\n| -> (3)\t {'op': 'replace', 'path': '/items/10285/values/MARK', 'value': 208.99}\n| -> (4)\t {'op': 'replace', 'path': '/items/10285/values/ASK', 'value': 210.95}\n| -> (5)\t {'op': 'replace', 'path': '/items/10285/values/ASK', 'value': 211}\n| -> (6)\t {'op': 'replace', 'path': '/items/10285/values/ASK', 'value': 210.95}\n| -> (7)\t {'op': 'replace', 'path': '/items/10285/values/ASK', 'value': 211}\n| -> (8)\t {'op': 'replace', 'path': '/items/10285/values/BID', 'value': 207}\n| -> (9)\t {'op': 'replace', 'path': '/items/10285/values/BID', 'value': 207.03}\n| -> (10)\t {'op': 'replace', 'path': '/items/10285/values/ASK', 'value': 210.95}\n| -> (11)\t {'op': 'replace', 'path': '/items/10285/values/ASK', 'value': 211}\n| -> (12)\t {'op': 'replace', 'path': '/items/10285/values/MARK', 'value': 209}\n| -> (13)\t {'op': 'replace', 'path': '/items/10285/values/MARK', 'value': 209.02}\n| -> (14)\t {'op': 'replace', 'path': '/items/10285/values/ASK', 'value': 210.95}\n| -> (15)\t {'op': 'replace', 'path': '/items/10285/values/ASK', 'value': 211}\n| -> (16)\t {'op': 'replace', 'path': '/items/10285/values/BID', 'value': 207.02}\n| -> (17)\t {'op': 'replace', 'path': '/items/10285/values/ASK', 'value': 210.95}\n| -> (18)\t {'op': 'replace', 'path': '/items/10285/values/MARK', 'value': 208.99}\n| -> (19)\t {'op': 'replace', 'path': '/items/10285/values/ASK', 'value': 211}\n| -> (20)\t {'op': 'replace', 'path': '/items/10285/values/MARK', 'value': 209.01}\n| -> (21)\t {'op': 'replace', 'path': '/items/10285/values/BID', 'value': 207.04}\n| -> (22)\t {'op': 'replace', 'path': '/items/10285/values/MARK', 'value': 209.02}\n| -> (23)\t {'op': 'replace', 'path': '/items/10285/values/BID', 'value': 207.11}\n| -> (24)\t {'op': 'replace', 'path': '/items/10285/values/BID', 'value': 207.14}\n| -> (25)\t {'op': 'replace', 'path': '/items/10285/values/MARK', 'value': 209.06}\n| -> (26)\t {'op': 'replace', 'path': '/items/10285/values/ASK', 'value': 210.95}\n| -> (27)\t {'op': 'replace', 'path': '/items/10285/values/ASK', 'value': 211}\n| -> (28)\t {'op': 'replace', 'path': '/items/10285/values/MARK', 'value': 209.07}\n| -> (29)\t {'op': 'replace', 'path': '/items/10285/values/IMPLIED_VOLATILITY', 'value': 0.0001}\n| -> (30)\t {'op': 'replace', 'path': '/items/10285/values/BID', 'value': 207.22}\n| -> (31)\t {'op': 'replace', 'path': '/items/10285/values/IMPLIED_VOLATILITY', 'value': 0}\n| -> (32)\t {'op': 'replace', 'path': '/items/10285/values/MARK', 'value': 209.11}\n| -> (33)\t {'op': 'replace', 'path': '/items/10285/values/BID', 'value': 207.26}\n| -> (34)\t {'op': 'replace', 'path': '/items/10285/values/DELTA', 'value': -1}\n| -> (35)\t {'op': 'replace', 'path': '/items/10285/values/RHO', 'value': 0}\n| -> (36)\t {'op': 'replace', 'path': '/items/10285/values/THETA', 'value': 0}\n| -> (37)\t {'op': 'replace', 'path': '/items/10285/values/VEGA', 'value': 124.2875}\n| -> (38)\t {'op': 'replace', 'path': '/items/10285/values/MARK', 'value': 209.13}\n| -> (39)\t {'op': 'replace', 'path': '/items/10285/values/BID', 'value': 207.18}\n| -> (40)\t {'op': 'replace', 'path': '/items/10285/values/MARK', 'value': 209.09}\n| -> (41)\t {'op': 'replace', 'path': '/items/10285/values/IMPLIED_VOLATILITY', 'value': 0.0001}\n| -> (42)\t {'op': 'replace', 'path': '/items/10285/values/BID', 'value': 207.17}\n| -> (43)\t {'op': 'replace', 'path': '/items/10285/values/IMPLIED_VOLATILITY', 'value': 0}\n| -> (44)\t {'op': 'replace', 'path': '/items/10285/values/BID', 'value': 207.16}\n| -> (45)\t {'op': 'replace', 'path': '/items/10285/values/DELTA', 'value': -0.9702}\n| -> (46)\t {'op': 'replace', 'path': '/items/10285/values/RHO', 'value': -15.5998}\n| -> (47)\t {'op': 'replace', 'path': '/items/10285/values/THETA', 'value': -0.0134}\n| -> (48)\t {'op': 'replace', 'path': '/items/10285/values/VEGA', 'value': 0}\n| -> (49)\t {'op': 'replace', 'path': '/items/10285/values/MARK', 'value': 209.08}\n| -> (50)\t {'op': 'replace', 'path': '/items/10285/values/BID', 'value': 206}\n| -> (51)\t {'op': 'replace', 'path': '/items/10285/values/BID', 'value': 207.12}\n| -> (52)\t {'op': 'replace', 'path': '/items/10285/values/MARK', 'value': 208.5}\n| -> (53)\t {'op': 'replace', 'path': '/items/10285/values/MARK', 'value': 209.06}\n| -> (54)\t {'op': 'replace', 'path': '/items/10285/values/BID', 'value': 207.15}\n| -> (55)\t {'op': 'replace', 'path': '/items/10285/values/MARK', 'value': 209.08}\n| -> (56)\t {'op': 'replace', 'path': '/items/10285/values/BID', 'value': 207.14}\n| -> (57)\t {'op': 'replace', 'path': '/items/10285/values/BID', 'value': 207.24}\n| -> (58)\t {'op': 'replace', 'path': '/items/10285/values/IMPLIED_VOLATILITY', 'value': 0.0001}\n| -> (59)\t {'op': 'replace', 'path': '/items/10285/values/IMPLIED_VOLATILITY', 'value': 0}\n| -> (60)\t {'op': 'replace', 'path': '/items/10285/values/MARK', 'value': 209.12}\n| -> (61)\t {'op': 'replace', 'path': '/items/10285/values/BID', 'value': 207.18}\n| -> (62)\t {'op': 'replace', 'path': '/items/10285/values/BID', 'value': 207.17}\n| -> (63)\t {'op': 'replace', 'path': '/items/10285/values/BID', 'value': 207.25}\n| -> (64)\t {'op': 'replace', 'path': '/items/10285/values/BID', 'value': 207.37}\n| -> (65)\t {'op': 'replace', 'path': '/items/10285/values/ASK', 'value': 211.45}\n| -> (66)\t {'op': 'replace', 'path': '/items/10285/values/MARK', 'value': 209.19}\n| -> (67)\t {'op': 'replace', 'path': '/items/10285/values/ASK', 'value': 211.5}\n| -> (68)\t {'op': 'replace', 'path': '/items/10285/values/BID', 'value': 207.36}\n| -> (69)\t {'op': 'replace', 'path': '/items/10285/values/ASK', 'value': 211.45}\n| -> (70)\t {'op': 'replace', 'path': '/items/10285/values/BID', 'value': 207.37}\n| -> (71)\t {'op': 'replace', 'path': '/items/10285/values/IMPLIED_VOLATILITY', 'value': 0.0001}\n| -> (72)\t {'op': 'replace', 'path': '/items/10285/values/ASK', 'value': 211.5}\n| -> (73)\t {'op': 'replace', 'path': '/items/10285/values/ASK', 'value': 211}\n| -> (74)\t {'op': 'replace', 'path': '/items/10285/values/BID', 'value': 207.25}\n| -> (75)\t {'op': 'replace', 'path': '/items/10285/values/BID', 'value': 207.14}\n| -> (76)\t {'op': 'replace', 'path': '/items/10285/values/BID', 'value': 207.15}\n| -> (77)\t {'op': 'replace', 'path': '/items/10285/values/DELTA', 'value': -1}\n| -> (78)\t {'op': 'replace', 'path': '/items/10285/values/RHO', 'value': 0}\n| -> (79)\t {'op': 'replace', 'path': '/items/10285/values/THETA', 'value': 0}\n| -> (80)\t {'op': 'replace', 'path': '/items/10285/values/VEGA', 'value': 124.2665}\n| -> (81)\t {'op': 'replace', 'path': '/items/10285/values/IMPLIED_VOLATILITY', 'value': 0}\n| -> (82)\t {'op': 'replace', 'path': '/items/10285/values/MARK', 'value': 209.08}\n| -> (83)\t {'op': 'replace', 'path': '/items/10285/values/BID', 'value': 207.07}\n| -> (84)\t {'op': 'replace', 'path': '/items/10285/values/MARK', 'value': 209.04}\n| -> (85)\t {'op': 'replace', 'path': '/items/10285/values/BID', 'value': 206}\n| -> (86)\t {'op': 'replace', 'path': '/items/10285/values/BID', 'value': 207.08}\n"
     ]
    }
   ],
   "source": [
    "# apply these smaller patches (just one for the sake of example) view first\n",
    "\n",
    "idx_key = list(patch_by_idx.keys())[0]\n",
    "print(\"Going to patch\", idx_key, \"which has\", len(patch_by_idx[idx_key]), \"items to update\")\n",
    "for i, patch in enumerate(patch_by_idx[idx_key]):\n",
    "    print(f\"| -> ({i + 1})\\t\", patch)\n",
    "#symbol_map[\"items\"][]"
   ]
  },
  {
   "cell_type": "code",
   "execution_count": 14,
   "metadata": {},
   "outputs": [
    {
     "output_type": "stream",
     "name": "stdout",
     "text": [
      "ASK                  73\nMARK                 84\nBID                  86\nIMPLIED_VOLATILITY   81\nDELTA                77\nRHO                  78\nTHETA                79\nVEGA                 80\n"
     ]
    }
   ],
   "source": [
    "# get the last modification to any field (for visual purposes)\n",
    "last_occ_map = {}\n",
    "for i, patch in enumerate(patch_by_idx[idx_key]):\n",
    "    field = patch[\"path\"][patch[\"path\"].rfind(\"/\") + 1:]\n",
    "    last_occ_map[field] = i\n",
    "\n",
    "for k, v in last_occ_map.items():\n",
    "    print(f\"{k : <20} {v + 1 : >2}\")\n"
   ]
  },
  {
   "cell_type": "code",
   "execution_count": 15,
   "metadata": {},
   "outputs": [
    {
     "output_type": "stream",
     "name": "stdout",
     "text": [
      "USEFUL PATCHES       82,320\nGIVEN PATCHES        884,940\nFREE UP PERCENT      90.70%\n"
     ]
    }
   ],
   "source": [
    "# let's see how much useless date is given to us :D\n",
    "comp_c = 0\n",
    "tot_c = 0\n",
    "for idx in list(patch_by_idx.keys()):\n",
    "    last_occ_map = {}\n",
    "    for i, patch in enumerate(patch_by_idx[idx_key]):\n",
    "        field = patch[\"path\"][patch[\"path\"].rfind(\"/\") + 1:]\n",
    "        last_occ_map[field] = i\n",
    "        tot_c += 1\n",
    "\n",
    "    comp_c += len(last_occ_map)\n",
    "\n",
    "print(f\"{'USEFUL PATCHES' : <20} {comp_c :>5,}\")\n",
    "print(f\"{'GIVEN PATCHES' : <20} {tot_c :>5,}\")\n",
    "print(f\"{'FREE UP PERCENT' : <20} {100 - 100*(comp_c/tot_c) :>5,.2f}%\")\n",
    "\n",
    "# lol... that's interesting to say the least"
   ]
  },
  {
   "cell_type": "code",
   "execution_count": 28,
   "metadata": {},
   "outputs": [
    {
     "output_type": "stream",
     "name": "stdout",
     "text": [
      "Going to patch 10285 which has 86 items to update\nCurrently stored at index 10285 is:\n| -> \tASK                  212\n| -> \tBID                  208.08\n| -> \tDELTA                0\n| -> \tGAMMA                1\n| -> \tIMPLIED_VOLATILITY   1\n| -> \tLAST                 216.9\n| -> \tMARK                 210.04\n| -> \tOPEN_INT             3\n| -> \tPROBABILITY_ITM      2\n| -> \tRHO                  1\n| -> \tTHETA                1\n| -> \tVEGA                 125.2665\n| -> \tVOLUME               1\nApplying patch now...\n{'op': 'replace', 'path': '/values/ASK', 'value': 211}\n{'op': 'replace', 'path': '/values/MARK', 'value': 208.97}\n{'op': 'replace', 'path': '/values/MARK', 'value': 208.99}\n{'op': 'replace', 'path': '/values/ASK', 'value': 210.95}\n{'op': 'replace', 'path': '/values/ASK', 'value': 211}\n{'op': 'replace', 'path': '/values/ASK', 'value': 210.95}\n{'op': 'replace', 'path': '/values/ASK', 'value': 211}\n{'op': 'replace', 'path': '/values/BID', 'value': 207}\n{'op': 'replace', 'path': '/values/BID', 'value': 207.03}\n{'op': 'replace', 'path': '/values/ASK', 'value': 210.95}\n{'op': 'replace', 'path': '/values/ASK', 'value': 211}\n{'op': 'replace', 'path': '/values/MARK', 'value': 209}\n{'op': 'replace', 'path': '/values/MARK', 'value': 209.02}\n{'op': 'replace', 'path': '/values/ASK', 'value': 210.95}\n{'op': 'replace', 'path': '/values/ASK', 'value': 211}\n{'op': 'replace', 'path': '/values/BID', 'value': 207.02}\n{'op': 'replace', 'path': '/values/ASK', 'value': 210.95}\n{'op': 'replace', 'path': '/values/MARK', 'value': 208.99}\n{'op': 'replace', 'path': '/values/ASK', 'value': 211}\n{'op': 'replace', 'path': '/values/MARK', 'value': 209.01}\n{'op': 'replace', 'path': '/values/BID', 'value': 207.04}\n{'op': 'replace', 'path': '/values/MARK', 'value': 209.02}\n{'op': 'replace', 'path': '/values/BID', 'value': 207.11}\n{'op': 'replace', 'path': '/values/BID', 'value': 207.14}\n{'op': 'replace', 'path': '/values/MARK', 'value': 209.06}\n{'op': 'replace', 'path': '/values/ASK', 'value': 210.95}\n{'op': 'replace', 'path': '/values/ASK', 'value': 211}\n{'op': 'replace', 'path': '/values/MARK', 'value': 209.07}\n{'op': 'replace', 'path': '/values/IMPLIED_VOLATILITY', 'value': 0.0001}\n{'op': 'replace', 'path': '/values/BID', 'value': 207.22}\n{'op': 'replace', 'path': '/values/IMPLIED_VOLATILITY', 'value': 0}\n{'op': 'replace', 'path': '/values/MARK', 'value': 209.11}\n{'op': 'replace', 'path': '/values/BID', 'value': 207.26}\n{'op': 'replace', 'path': '/values/DELTA', 'value': -1}\n{'op': 'replace', 'path': '/values/RHO', 'value': 0}\n{'op': 'replace', 'path': '/values/THETA', 'value': 0}\n{'op': 'replace', 'path': '/values/VEGA', 'value': 124.2875}\n{'op': 'replace', 'path': '/values/MARK', 'value': 209.13}\n{'op': 'replace', 'path': '/values/BID', 'value': 207.18}\n{'op': 'replace', 'path': '/values/MARK', 'value': 209.09}\n{'op': 'replace', 'path': '/values/IMPLIED_VOLATILITY', 'value': 0.0001}\n{'op': 'replace', 'path': '/values/BID', 'value': 207.17}\n{'op': 'replace', 'path': '/values/IMPLIED_VOLATILITY', 'value': 0}\n{'op': 'replace', 'path': '/values/BID', 'value': 207.16}\n{'op': 'replace', 'path': '/values/DELTA', 'value': -0.9702}\n{'op': 'replace', 'path': '/values/RHO', 'value': -15.5998}\n{'op': 'replace', 'path': '/values/THETA', 'value': -0.0134}\n{'op': 'replace', 'path': '/values/VEGA', 'value': 0}\n{'op': 'replace', 'path': '/values/MARK', 'value': 209.08}\n{'op': 'replace', 'path': '/values/BID', 'value': 206}\n{'op': 'replace', 'path': '/values/BID', 'value': 207.12}\n{'op': 'replace', 'path': '/values/MARK', 'value': 208.5}\n{'op': 'replace', 'path': '/values/MARK', 'value': 209.06}\n{'op': 'replace', 'path': '/values/BID', 'value': 207.15}\n{'op': 'replace', 'path': '/values/MARK', 'value': 209.08}\n{'op': 'replace', 'path': '/values/BID', 'value': 207.14}\n{'op': 'replace', 'path': '/values/BID', 'value': 207.24}\n{'op': 'replace', 'path': '/values/IMPLIED_VOLATILITY', 'value': 0.0001}\n{'op': 'replace', 'path': '/values/IMPLIED_VOLATILITY', 'value': 0}\n{'op': 'replace', 'path': '/values/MARK', 'value': 209.12}\n{'op': 'replace', 'path': '/values/BID', 'value': 207.18}\n{'op': 'replace', 'path': '/values/BID', 'value': 207.17}\n{'op': 'replace', 'path': '/values/BID', 'value': 207.25}\n{'op': 'replace', 'path': '/values/BID', 'value': 207.37}\n{'op': 'replace', 'path': '/values/ASK', 'value': 211.45}\n{'op': 'replace', 'path': '/values/MARK', 'value': 209.19}\n{'op': 'replace', 'path': '/values/ASK', 'value': 211.5}\n{'op': 'replace', 'path': '/values/BID', 'value': 207.36}\n{'op': 'replace', 'path': '/values/ASK', 'value': 211.45}\n{'op': 'replace', 'path': '/values/BID', 'value': 207.37}\n{'op': 'replace', 'path': '/values/IMPLIED_VOLATILITY', 'value': 0.0001}\n{'op': 'replace', 'path': '/values/ASK', 'value': 211.5}\n{'op': 'replace', 'path': '/values/ASK', 'value': 211}\n{'op': 'replace', 'path': '/values/BID', 'value': 207.25}\n{'op': 'replace', 'path': '/values/BID', 'value': 207.14}\n{'op': 'replace', 'path': '/values/BID', 'value': 207.15}\n{'op': 'replace', 'path': '/values/DELTA', 'value': -1}\n{'op': 'replace', 'path': '/values/RHO', 'value': 0}\n{'op': 'replace', 'path': '/values/THETA', 'value': 0}\n{'op': 'replace', 'path': '/values/VEGA', 'value': 124.2665}\n{'op': 'replace', 'path': '/values/IMPLIED_VOLATILITY', 'value': 0}\n{'op': 'replace', 'path': '/values/MARK', 'value': 209.08}\n{'op': 'replace', 'path': '/values/BID', 'value': 207.07}\n{'op': 'replace', 'path': '/values/MARK', 'value': 209.04}\n{'op': 'replace', 'path': '/values/BID', 'value': 206}\n{'op': 'replace', 'path': '/values/BID', 'value': 207.08}\nNow stored at index 10285 is:\n| -> \tASK                  212\n| -> \tBID                  208\n| -> \tDELTA                0\n| -> \tGAMMA                1\n| -> \tIMPLIED_VOLATILITY   1.0001\n| -> \tLAST                 216.9\n| -> \tMARK                 209.97\n| -> \tOPEN_INT             3\n| -> \tPROBABILITY_ITM      2\n| -> \tRHO                  1\n| -> \tTHETA                1\n| -> \tVEGA                 125.2875\n| -> \tVOLUME               1\n| ->\t.SPY231215P625\n"
     ]
    }
   ],
   "source": [
    "# apply first patch (followed by more patches afterwards)\n",
    "idx_key = list(patch_by_idx.keys())[0]\n",
    "print(\"Going to patch\", idx_key, \"which has\", len(patch_by_idx[idx_key]), \"items to update\")\n",
    "\n",
    "print(f\"Currently stored at index {idx_key} is:\")\n",
    "for k, v in symbol_map[\"items\"][idx_key][\"values\"].items():\n",
    "    print(f\"| -> \\t{k : <20} {v + 1 : >0}\")\n",
    "\n",
    "print(\"Applying patch now...\")\n",
    "#symbol_map[\"items\"][idx_key] = \n",
    "\n",
    "patches = []\n",
    "for patch in patch_by_idx[idx_key]:\n",
    "    patch[\"path\"] = patch[\"path\"][patch[\"path\"].find(\"/values\"):]\n",
    "    patches.append(patch)\n",
    "    print(patch)\n",
    "\n",
    "symbol_map[\"items\"][idx_key] = jsonpatch.apply_patch(symbol_map[\"items\"][idx_key], patches[::-1])\n",
    "\n",
    "print(f\"Now stored at index {idx_key} is:\")\n",
    "for k, v in symbol_map[\"items\"][idx_key][\"values\"].items():\n",
    "    print(f\"| -> \\t{k : <20} {v + 1 : >0}\")\n",
    "print(f\"| ->\\t{symbol_map['items'][idx_key]['symbol']}\")"
   ]
  },
  {
   "source": [
    "# General Guideline for Data Pipeline\n",
    "\n",
    "A single patch comes in which contains:\n",
    "\n",
    "    -> Request ID (useful for linking this with the requested ticker)\n",
    "    -> \"Patches\" (an array of patches that are relevant for this patch)\n",
    "\n",
    "From this step, we do a few things:\n",
    "\n",
    "1. Split up all the patches since we know they all belong to the same security, now have: ([] of patches)\n",
    "2. Go through all the patches (and replace any empty paths first)\n",
    "3. For all other paths, make a map with k:v being index:[]patch\n",
    "4. Iterate through this map and apply the patches, export CSV, continue\n",
    "5. ???\n",
    "6. Profit\n"
   ],
   "cell_type": "markdown",
   "metadata": {}
  }
 ]
}